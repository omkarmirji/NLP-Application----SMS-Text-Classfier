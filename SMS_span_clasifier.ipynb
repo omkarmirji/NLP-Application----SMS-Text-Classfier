{
 "cells": [
  {
   "cell_type": "code",
   "execution_count": null,
   "id": "15103bd9-5bda-4181-936a-e28864abc955",
   "metadata": {},
   "outputs": [],
   "source": [
    "import pandas as pd\n",
    "import numpy as np\n",
    "from sklearn.preprocessing import LabelEncoder\n",
    "import matplotlib.pyplot as plt\n",
    "import seaborn as sns\n",
    "import nltk\n",
    "import re\n"
   ]
  },
  {
   "cell_type": "code",
   "execution_count": null,
   "id": "0b785a2d-7569-43cd-91b5-6c618622e7bf",
   "metadata": {},
   "outputs": [],
   "source": [
    "try:\n",
    "    df = pd.read_csv('spam.csv', encoding='utf-8')\n",
    "except UnicodeDecodeError:\n",
    "    # If a UnicodeDecodeError occurs, try reading with 'latin1' encoding\n",
    "    df = pd.read_csv('spam.csv', encoding='latin1')"
   ]
  },
  {
   "cell_type": "code",
   "execution_count": null,
   "id": "e692cdf9-bc11-4751-90e9-b620bcf33f50",
   "metadata": {},
   "outputs": [],
   "source": [
    "df"
   ]
  },
  {
   "cell_type": "code",
   "execution_count": null,
   "id": "6c5ad9e4-689c-4b58-a5a6-e1c68a89abf1",
   "metadata": {},
   "outputs": [],
   "source": [
    "df.shape"
   ]
  },
  {
   "cell_type": "markdown",
   "id": "833ecfdd-82e9-4c54-8504-dc03ccb2d42b",
   "metadata": {},
   "source": [
    "# Data Cleaning"
   ]
  },
  {
   "cell_type": "code",
   "execution_count": null,
   "id": "11d73872-f8f5-4d53-a5ea-c641e86e3a87",
   "metadata": {},
   "outputs": [],
   "source": [
    "df.info()"
   ]
  },
  {
   "cell_type": "markdown",
   "id": "74f0ec1d-501a-4ab3-a5bc-e75574de4758",
   "metadata": {},
   "source": [
    "# Drop last three cols\n"
   ]
  },
  {
   "cell_type": "code",
   "execution_count": null,
   "id": "8dac91d7-f282-4cf9-8c58-1b3e250ed45c",
   "metadata": {},
   "outputs": [],
   "source": [
    "df = df.drop(columns = ['Unnamed: 2','Unnamed: 3','Unnamed: 4'])"
   ]
  },
  {
   "cell_type": "markdown",
   "id": "309901d1-677c-4ff9-b812-1d08958b7bca",
   "metadata": {},
   "source": [
    "# Renaming cols"
   ]
  },
  {
   "cell_type": "code",
   "execution_count": null,
   "id": "7a2a0011-dd1d-4f63-a505-d3f8cc9391b8",
   "metadata": {},
   "outputs": [],
   "source": [
    "df = df.rename(columns = {'v1':'target','v2':'text'})"
   ]
  },
  {
   "cell_type": "code",
   "execution_count": null,
   "id": "75f65931-7f39-44f0-838e-362bf5b2838b",
   "metadata": {},
   "outputs": [],
   "source": [
    "df"
   ]
  },
  {
   "cell_type": "markdown",
   "id": "845428d6-2650-4b0a-b1fb-5032316c4fcf",
   "metadata": {},
   "source": [
    "## Encoding the Target Column"
   ]
  },
  {
   "cell_type": "code",
   "execution_count": null,
   "id": "23c92d06-960d-4066-b00d-50d0f28cea78",
   "metadata": {},
   "outputs": [],
   "source": [
    "encoder = LabelEncoder()"
   ]
  },
  {
   "cell_type": "code",
   "execution_count": null,
   "id": "9a463512-df22-4dc5-8613-52bdc9f2b18c",
   "metadata": {},
   "outputs": [],
   "source": [
    "df['target_encoded'] = encoder.fit_transform(df['target'])"
   ]
  },
  {
   "cell_type": "markdown",
   "id": "6c2bad04-7906-41d1-99af-88c36585a958",
   "metadata": {},
   "source": [
    "## Check for Missing values"
   ]
  },
  {
   "cell_type": "code",
   "execution_count": null,
   "id": "eb13c939-a587-430b-8a91-2bfab69a1256",
   "metadata": {},
   "outputs": [],
   "source": [
    "df.isnull().sum()"
   ]
  },
  {
   "cell_type": "markdown",
   "id": "9ed23d26-6abe-453d-bc60-07d5ee7a6a66",
   "metadata": {},
   "source": [
    "## Check for Duplicate values"
   ]
  },
  {
   "cell_type": "code",
   "execution_count": null,
   "id": "fafee188-0b49-41bf-8104-e750d41ee73e",
   "metadata": {},
   "outputs": [],
   "source": [
    "df.duplicated().sum()"
   ]
  },
  {
   "cell_type": "code",
   "execution_count": null,
   "id": "2a6d34e6-8046-4502-8298-67a390445df5",
   "metadata": {},
   "outputs": [],
   "source": [
    "df = df.drop_duplicates(keep='first')"
   ]
  },
  {
   "cell_type": "code",
   "execution_count": null,
   "id": "b5384157-4fde-4923-abfd-26c124563e24",
   "metadata": {},
   "outputs": [],
   "source": [
    "df.shape"
   ]
  },
  {
   "cell_type": "markdown",
   "id": "2843c64c-016d-49c9-ac13-7ca9ff911ae1",
   "metadata": {},
   "source": [
    "# EDA"
   ]
  },
  {
   "cell_type": "code",
   "execution_count": null,
   "id": "e3cf79ee-9859-456a-8d1a-c702ffc75115",
   "metadata": {},
   "outputs": [],
   "source": [
    "df['target'].value_counts()"
   ]
  },
  {
   "cell_type": "code",
   "execution_count": null,
   "id": "1e03a988-a2ba-44ff-9df7-d79b87f8264d",
   "metadata": {},
   "outputs": [],
   "source": [
    "plt.pie(df['target'].value_counts(),labels = ['ham','spam'], autopct = \"%0.2f\")"
   ]
  },
  {
   "cell_type": "code",
   "execution_count": null,
   "id": "bbed9794-a2bd-4c11-9273-0c8b71e8dfe2",
   "metadata": {},
   "outputs": [],
   "source": [
    "## Data is imbalanced"
   ]
  },
  {
   "cell_type": "code",
   "execution_count": null,
   "id": "7599350f-c7a3-47b0-9025-dc1cbdc3e2f4",
   "metadata": {},
   "outputs": [],
   "source": [
    "df['num_char'] = df['text'].apply(len)"
   ]
  },
  {
   "cell_type": "code",
   "execution_count": null,
   "id": "866bc80f-0a9b-479b-a923-4db86cd3992f",
   "metadata": {},
   "outputs": [],
   "source": [
    "df['word_tokenize'] = df['text']\n",
    "df = df.drop(columns = ['word_tokenize'])"
   ]
  },
  {
   "cell_type": "code",
   "execution_count": null,
   "id": "1cad1c35-4479-40b5-936f-9117b3575fc1",
   "metadata": {},
   "outputs": [],
   "source": [
    "def word_tokenize(col):    \n",
    "    return len(nltk.word_tokenize(col))"
   ]
  },
  {
   "cell_type": "code",
   "execution_count": null,
   "id": "35556457-1da5-44fa-bcbe-df3e851e0f02",
   "metadata": {},
   "outputs": [],
   "source": [
    "df['num_words'] = df['text'].apply(word_tokenize)"
   ]
  },
  {
   "cell_type": "code",
   "execution_count": null,
   "id": "063d82dc-c29c-41d6-afe2-2a9abc658377",
   "metadata": {},
   "outputs": [],
   "source": [
    "df"
   ]
  },
  {
   "cell_type": "code",
   "execution_count": null,
   "id": "fa205839-b0b1-40e8-9933-7751adce89de",
   "metadata": {},
   "outputs": [],
   "source": [
    "def word_tokenize(col):    \n",
    "    return len(nltk.sent_tokenize(col))"
   ]
  },
  {
   "cell_type": "code",
   "execution_count": null,
   "id": "091c6b9b-00c4-4f56-b63b-797316a0487d",
   "metadata": {},
   "outputs": [],
   "source": [
    "df['num_sentences'] = df['text'].apply(word_tokenize)"
   ]
  },
  {
   "cell_type": "code",
   "execution_count": null,
   "id": "bac2e094-7ec0-435f-9f51-188fb545af40",
   "metadata": {},
   "outputs": [],
   "source": [
    "df.describe()"
   ]
  },
  {
   "cell_type": "code",
   "execution_count": null,
   "id": "e05d6090-ffb4-4205-bf8f-3ad3b6e2e4de",
   "metadata": {},
   "outputs": [],
   "source": [
    "df[df['target']=='ham'].describe()"
   ]
  },
  {
   "cell_type": "code",
   "execution_count": null,
   "id": "493d46af-3f59-420a-b784-1529510077a9",
   "metadata": {},
   "outputs": [],
   "source": [
    "df[df['target']=='spam'].describe()"
   ]
  },
  {
   "cell_type": "code",
   "execution_count": null,
   "id": "a05cae86-b73f-4b6f-9d3f-5384e3eb6227",
   "metadata": {},
   "outputs": [],
   "source": [
    "new_features = ['num_char','num_words','num_sentences']\n",
    "target = ['spam','ham']\n",
    "# Set style for plots\n",
    "sns.set(style=\"whitegrid\")\n",
    "\n",
    "# Create subplots for each feature\n",
    "fig, axes = plt.subplots(1, 3, figsize=(15, 5))\n",
    "\n",
    "# KDE plot for num_char\n",
    "sns.kdeplot(data=df, x='num_char', hue='target', fill=True, ax=axes[0])\n",
    "axes[0].set_title('KDE Plot for num_char')\n",
    "\n",
    "# KDE plot for num_words\n",
    "sns.kdeplot(data=df, x='num_words', hue='target', fill=True, ax=axes[1])\n",
    "axes[1].set_title('KDE Plot for num_words')\n",
    "\n",
    "# KDE plot for num_sentences\n",
    "sns.kdeplot(data=df, x='num_sentences', hue='target', fill=True, ax=axes[2])\n",
    "axes[2].set_title('KDE Plot for num_sentences')\n",
    "\n",
    "# Show the plots\n",
    "plt.tight_layout()\n",
    "plt.show()"
   ]
  },
  {
   "cell_type": "code",
   "execution_count": null,
   "id": "09614def-b42d-4390-8789-e6371a68a891",
   "metadata": {},
   "outputs": [],
   "source": [
    "sns.heatmap(df.drop(columns = ['target','text']).corr(),annot=True)"
   ]
  },
  {
   "cell_type": "code",
   "execution_count": null,
   "id": "44a4c676-3da5-48c4-8859-fc93b34cb0d7",
   "metadata": {},
   "outputs": [],
   "source": [
    "df"
   ]
  },
  {
   "cell_type": "markdown",
   "id": "72f1cf88-c3ad-4c58-8fc4-7b54f8f4d455",
   "metadata": {},
   "source": [
    "## Data Preprocessing"
   ]
  },
  {
   "cell_type": "markdown",
   "id": "e2a0eca8-82e8-4cc3-a586-6c8be4c6a042",
   "metadata": {},
   "source": [
    "## Lowercasing\n",
    "## Word Tokenize\n",
    "## Removing characters other than Alphanumeric\n",
    "## Removing stowords\n",
    "## Perform Stemming"
   ]
  },
  {
   "cell_type": "code",
   "execution_count": null,
   "id": "e81e58e0-f45d-4282-b567-2b7492f642bf",
   "metadata": {},
   "outputs": [],
   "source": [
    "ps = nltk.stem.porter.PorterStemmer()\n",
    "lmt = nltk.stem.WordNetLemmatizer()\n",
    "\n",
    "\n",
    "def transform_text(text):\n",
    "    text = text.lower()\n",
    "    text = nltk.word_tokenize(text)\n",
    "    L1=[]\n",
    "    for word in text:\n",
    "        word=re.sub(r'[^a-zA-Z0-9]', '', word)\n",
    "        if word not in nltk.corpus.stopwords.words('english') and word !=\"\":                        \n",
    "            L1.append(word)\n",
    "    text = L1    \n",
    "\n",
    "    L2 = []\n",
    "    for item in text:\n",
    "        L2.append(lmt.lemmatize(item))\n",
    "          \n",
    "        \n",
    "    return \" \".join(L2)"
   ]
  },
  {
   "cell_type": "code",
   "execution_count": null,
   "id": "a4c8cb83-7505-4f4a-9ceb-b14c563a06c2",
   "metadata": {},
   "outputs": [],
   "source": [
    "df['transformed_text'] = df['text'].apply(transform_text)"
   ]
  },
  {
   "cell_type": "code",
   "execution_count": null,
   "id": "f1241180-6def-45b9-875d-c33d385cf593",
   "metadata": {},
   "outputs": [],
   "source": [
    "df"
   ]
  },
  {
   "cell_type": "markdown",
   "id": "1414a75f-0d86-4399-a833-2f36903e0c49",
   "metadata": {},
   "source": [
    "## Total number of words in the corpus\n",
    "## Total number of Unique words in the corpus"
   ]
  },
  {
   "cell_type": "code",
   "execution_count": null,
   "id": "1079290f-49d1-487a-8623-203032a07e77",
   "metadata": {},
   "outputs": [],
   "source": [
    "counter = 0\n",
    "v={}\n",
    "for sent in df['transformed_text']:\n",
    "    for word in (sent.split()):\n",
    "        counter = counter + 1\n",
    "        if word in v:\n",
    "            v[word] = v[word] + 1\n",
    "        else:\n",
    "            v[word] = 0\n",
    "print('Total number of words in Corpus --> ', counter)\n",
    "print('Total number of words in Corpus --> ', len(v))\n",
    "        "
   ]
  },
  {
   "cell_type": "markdown",
   "id": "c809ac3f-a268-42f7-928f-1c646cbb6021",
   "metadata": {},
   "source": [
    "## 4. Model Building"
   ]
  },
  {
   "cell_type": "code",
   "execution_count": null,
   "id": "573d857c-f187-4667-adfd-ca53fea9d25f",
   "metadata": {},
   "outputs": [],
   "source": [
    "df.head()"
   ]
  },
  {
   "cell_type": "code",
   "execution_count": null,
   "id": "9475a345-be2d-49d7-a6db-aa61bb97a2a0",
   "metadata": {},
   "outputs": [],
   "source": [
    "from sklearn.feature_extraction.text import CountVectorizer, TfidfVectorizer\n",
    "cv = CountVectorizer()\n",
    "tfidf = TfidfVectorizer(max_features = 1000)"
   ]
  },
  {
   "cell_type": "code",
   "execution_count": null,
   "id": "06877f5e-7ba2-446e-8872-f61e2b2f83b4",
   "metadata": {},
   "outputs": [],
   "source": [
    "X = cv.fit_transform(df['transformed_text']).toarray()"
   ]
  },
  {
   "cell_type": "code",
   "execution_count": null,
   "id": "1c328ae5-4882-472b-861b-7d930ca3787b",
   "metadata": {},
   "outputs": [],
   "source": [
    "X1 = tfidf.fit_transform(df['transformed_text']).toarray()"
   ]
  },
  {
   "cell_type": "code",
   "execution_count": null,
   "id": "0c64acd1-03f1-4db2-8a08-e375b697c295",
   "metadata": {},
   "outputs": [],
   "source": [
    "y = df['target_encoded']"
   ]
  },
  {
   "cell_type": "code",
   "execution_count": null,
   "id": "8841e85d-b9f4-46f8-9446-9089575211d8",
   "metadata": {},
   "outputs": [],
   "source": [
    "from sklearn.model_selection import train_test_split\n",
    "X_train, X_test, y_train, y_test = train_test_split(X1,y, test_size = 0.2, random_state = 42)"
   ]
  },
  {
   "cell_type": "code",
   "execution_count": null,
   "id": "eadd36f5-e62b-414b-865b-cac37d9fb086",
   "metadata": {},
   "outputs": [],
   "source": [
    "from sklearn.naive_bayes import GaussianNB, MultinomialNB, BernoulliNB\n",
    "from sklearn.metrics import accuracy_score, confusion_matrix, precision_score"
   ]
  },
  {
   "cell_type": "code",
   "execution_count": null,
   "id": "e396a659-daff-4269-a6dc-cfff7a1f48ee",
   "metadata": {},
   "outputs": [],
   "source": [
    "gnb = GaussianNB()\n",
    "mnb = MultinomialNB()\n",
    "bnb = BernoulliNB()"
   ]
  },
  {
   "cell_type": "code",
   "execution_count": null,
   "id": "bc58d4ea-c18f-4dec-89d1-34e3a321a206",
   "metadata": {},
   "outputs": [],
   "source": [
    "gnb.fit(X_train, y_train)\n",
    "y_pred_gnb = gnb.predict(X_test)\n",
    "print(accuracy_score(y_test,y_pred_gnb))\n",
    "print(confusion_matrix(y_test,y_pred_gnb))\n",
    "print(precision_score(y_test,y_pred_gnb))"
   ]
  },
  {
   "cell_type": "code",
   "execution_count": null,
   "id": "981b65ec-947b-4182-b113-a95b61023b41",
   "metadata": {},
   "outputs": [],
   "source": [
    "mnb.fit(X_train, y_train)\n",
    "y_pred_mnb = mnb.predict(X_test)\n",
    "print(accuracy_score(y_test,y_pred_mnb))\n",
    "print(confusion_matrix(y_test,y_pred_mnb))\n",
    "print(precision_score(y_test,y_pred_mnb))"
   ]
  },
  {
   "cell_type": "code",
   "execution_count": null,
   "id": "8ab8e614-b75d-4baa-9895-a96c8576663f",
   "metadata": {},
   "outputs": [],
   "source": [
    "bnb.fit(X_train, y_train)\n",
    "y_pred_bnb = bnb.predict(X_test)\n",
    "print(accuracy_score(y_test,y_pred_bnb))\n",
    "print(confusion_matrix(y_test,y_pred_bnb))\n",
    "print(precision_score(y_test,y_pred_bnb))"
   ]
  },
  {
   "cell_type": "code",
   "execution_count": null,
   "id": "d919fa7c-db3a-48a8-8951-2f85d791f782",
   "metadata": {},
   "outputs": [],
   "source": [
    "sample = \"Money money money, win free moeny and enjoy .\"\n",
    "txt1 = transform_text(sample)\n",
    "txt2 = tfidf.transform([txt1])\n",
    "mnb.predict(txt2)"
   ]
  },
  {
   "cell_type": "code",
   "execution_count": null,
   "id": "bc62a11c-7b8c-4442-b9f4-21428c47c579",
   "metadata": {},
   "outputs": [],
   "source": []
  },
  {
   "cell_type": "code",
   "execution_count": null,
   "id": "9ac298dc-3cdb-464e-8e58-4be8f9e65d61",
   "metadata": {},
   "outputs": [],
   "source": []
  },
  {
   "cell_type": "code",
   "execution_count": null,
   "id": "7a206656-a423-4fba-bb53-e51359712ff9",
   "metadata": {},
   "outputs": [],
   "source": []
  },
  {
   "cell_type": "code",
   "execution_count": null,
   "id": "7f816c54-0220-4cf9-8f51-b725913169c6",
   "metadata": {},
   "outputs": [],
   "source": []
  }
 ],
 "metadata": {
  "kernelspec": {
   "display_name": "Python 3 (ipykernel)",
   "language": "python",
   "name": "python3"
  },
  "language_info": {
   "codemirror_mode": {
    "name": "ipython",
    "version": 3
   },
   "file_extension": ".py",
   "mimetype": "text/x-python",
   "name": "python",
   "nbconvert_exporter": "python",
   "pygments_lexer": "ipython3",
   "version": "3.12.4"
  }
 },
 "nbformat": 4,
 "nbformat_minor": 5
}
